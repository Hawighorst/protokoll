{
 "cells": [
  {
   "cell_type": "code",
   "execution_count": 133,
   "metadata": {
    "collapsed": true
   },
   "outputs": [],
   "source": [
    "import numpy as np"
   ]
  },
  {
   "cell_type": "code",
   "execution_count": 134,
   "metadata": {},
   "outputs": [
    {
     "data": {
      "text/plain": [
       "(382.404, 1.0763280000000002)"
      ]
     },
     "execution_count": 134,
     "metadata": {},
     "output_type": "execute_result"
    }
   ],
   "source": [
    "b=153458   \n",
    "c=186.587    \n",
    "ub= 289.7*1.32     \n",
    "uc= 0.8154*1.32  \n",
    "ub,uc"
   ]
  },
  {
   "cell_type": "code",
   "execution_count": 135,
   "metadata": {
    "scrolled": true
   },
   "outputs": [
    {
     "data": {
      "text/plain": [
       "(8.18880124487428e-05, 2.0405781068728278e-07)"
      ]
     },
     "execution_count": 135,
     "metadata": {},
     "output_type": "execute_result"
    }
   ],
   "source": [
    "#Direktionsmoment\n",
    "D=4*np.pi/b\n",
    "uD=D*ub/b\n",
    "D,uD"
   ]
  },
  {
   "cell_type": "code",
   "execution_count": 136,
   "metadata": {},
   "outputs": [
    {
     "data": {
      "text/plain": [
       "(0.001404349415904209, 2.2310117622293366e-05, 1.0606868700182845, 26.02)"
      ]
     },
     "execution_count": 136,
     "metadata": {},
     "output_type": "execute_result"
    }
   ],
   "source": [
    "#hantel ohne Scheiben\n",
    "T1=39.03*2/3\n",
    "uT1=0.5/np.sqrt(6)\n",
    "J1=T1**2*D/((4*np.pi**2))\n",
    "uJ1=J1*np.sqrt((2*uT1/T1)**2+(uD/D)**2)\n",
    "s=J1/1.324e-3\n",
    "J1,uJ1,s,T1"
   ]
  },
  {
   "cell_type": "code",
   "execution_count": 138,
   "metadata": {},
   "outputs": [
    {
     "data": {
      "text/plain": [
       "(0.0005086608907077284, 2.2343231125423792e-05)"
      ]
     },
     "execution_count": 138,
     "metadata": {},
     "output_type": "execute_result"
    }
   ],
   "source": [
    "#Hantelscheiben\n",
    "J2=c*D/(8*np.pi**2)-J1/2\n",
    "uJ2=np.sqrt((c*D/(8*np.pi**2))**2*((uc/c)**2+(uD/D)**2)+(uJ1)**2)\n",
    "-J2,uJ2"
   ]
  },
  {
   "cell_type": "code",
   "execution_count": 128,
   "metadata": {},
   "outputs": [
    {
     "data": {
      "text/plain": [
       "(5.7582409522e-05, 6.588415253407961e-07)"
      ]
     },
     "execution_count": 128,
     "metadata": {},
     "output_type": "execute_result"
    }
   ],
   "source": [
    "#Theorie Scheiben\n",
    "m2=0.29728\n",
    "\n",
    "r2=0.049/2\n",
    "ur2=0.001/np.sqrt(6)\n",
    "r1=0.01197/2\n",
    "l2=0.0204\n",
    "ul2=0.001/np.sqrt(6)\n",
    "J2t=m2*(l2**2/12+(r2**2+r1**2)/4)\n",
    "uJ2t=np.sqrt((m2*l2*2*ul2/12)**2+2*(m2*2*ur2*r1/4)**2)\n",
    "J2t,uJ2t"
   ]
  },
  {
   "cell_type": "code",
   "execution_count": 129,
   "metadata": {},
   "outputs": [
    {
     "data": {
      "text/plain": [
       "(0.0013246595343973126, 4.0000439557599098e-06)"
      ]
     },
     "execution_count": 129,
     "metadata": {},
     "output_type": "execute_result"
    }
   ],
   "source": [
    "#theorie Stange\n",
    "m1=0.21773\n",
    "l1=0.27\n",
    "ul1=0.001/np.sqrt(6)\n",
    "r1=0.01197/2\n",
    "ur1=0.0001/np.sqrt(6)\n",
    "J1t=m1*(l1**2/12+r1**2/4)\n",
    "uJ1t=np.sqrt((m1*l1*2*ul1/12)**2+(m1*2*ur1*r1/4)**2)\n",
    "J1t,uJ1t"
   ]
  },
  {
   "cell_type": "code",
   "execution_count": null,
   "metadata": {
    "collapsed": true
   },
   "outputs": [],
   "source": []
  },
  {
   "cell_type": "code",
   "execution_count": null,
   "metadata": {
    "collapsed": true
   },
   "outputs": [],
   "source": []
  },
  {
   "cell_type": "code",
   "execution_count": null,
   "metadata": {
    "collapsed": true
   },
   "outputs": [],
   "source": []
  },
  {
   "cell_type": "code",
   "execution_count": null,
   "metadata": {
    "collapsed": true
   },
   "outputs": [],
   "source": []
  }
 ],
 "metadata": {
  "kernelspec": {
   "display_name": "Python 3",
   "language": "python",
   "name": "python3"
  },
  "language_info": {
   "codemirror_mode": {
    "name": "ipython",
    "version": 3
   },
   "file_extension": ".py",
   "mimetype": "text/x-python",
   "name": "python",
   "nbconvert_exporter": "python",
   "pygments_lexer": "ipython3",
   "version": "3.6.3"
  }
 },
 "nbformat": 4,
 "nbformat_minor": 2
}
