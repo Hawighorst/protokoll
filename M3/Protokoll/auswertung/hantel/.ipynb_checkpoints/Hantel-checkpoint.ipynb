{
 "cells": [
  {
   "cell_type": "code",
   "execution_count": 52,
   "metadata": {
    "collapsed": true
   },
   "outputs": [],
   "source": [
    "import numpy as np"
   ]
  },
  {
   "cell_type": "code",
   "execution_count": 53,
   "metadata": {
    "collapsed": true
   },
   "outputs": [],
   "source": [
    "b=153458   \n",
    "c=186.587    \n",
    "ub= 289.7     \n",
    "uc= 0.8154  "
   ]
  },
  {
   "cell_type": "code",
   "execution_count": 54,
   "metadata": {
    "scrolled": true
   },
   "outputs": [
    {
     "data": {
      "text/plain": [
       "(8.18880124487428e-05, 1.5458925052066876e-07)"
      ]
     },
     "execution_count": 54,
     "metadata": {},
     "output_type": "execute_result"
    }
   ],
   "source": [
    "#Direktionsmoment\n",
    "D=4*np.pi/b\n",
    "uD=D*ub/b\n",
    "D,uD"
   ]
  },
  {
   "cell_type": "code",
   "execution_count": 61,
   "metadata": {},
   "outputs": [
    {
     "data": {
      "text/plain": [
       "(0.0007899465464461177, 1.6592609090813054e-05)"
      ]
     },
     "execution_count": 61,
     "metadata": {},
     "output_type": "execute_result"
    }
   ],
   "source": [
    "#hantel ohne Scheiben\n",
    "T1=39.03/2\n",
    "uT1=0.5/np.sqrt(6)\n",
    "J1=T1**2*D/((4*np.pi**2))\n",
    "uJ1=J1*np.sqrt((2*uT1/T1)**2+(uD/D)**2)\n",
    "J1,uJ1"
   ]
  },
  {
   "cell_type": "code",
   "execution_count": 56,
   "metadata": {},
   "outputs": [
    {
     "data": {
      "text/plain": [
       "(-0.0002014594559786827, 1.6968438196891691e-06)"
      ]
     },
     "execution_count": 56,
     "metadata": {},
     "output_type": "execute_result"
    }
   ],
   "source": [
    "J2=c*D/(8*np.pi**2)-J1/2\n",
    "uJ2=np.sqrt((c*D/(8*np.pi**2))**2*((uc/c)**2+(uD/D)**2)+(uJ1/2)**2)\n",
    "J2,uJ2"
   ]
  },
  {
   "cell_type": "code",
   "execution_count": 57,
   "metadata": {},
   "outputs": [
    {
     "data": {
      "text/plain": [
       "(5.7582409522e-05, 6.588415253407961e-07)"
      ]
     },
     "execution_count": 57,
     "metadata": {},
     "output_type": "execute_result"
    }
   ],
   "source": [
    "#Theorie Scheiben\n",
    "m2=0.29728\n",
    "\n",
    "r2=0.049/2\n",
    "ur2=0.001/np.sqrt(6)\n",
    "r1=0.01197/2\n",
    "l2=0.0204\n",
    "ul2=0.001/np.sqrt(6)\n",
    "J2t=m2*(l2**2/12+(r2**2+r1**2)/4)\n",
    "uJ2t=np.sqrt((m2*l2*2*ul2/12)**2+2*(m2*2*ur2*r1/4)**2)\n",
    "J2t,uJ2t"
   ]
  },
  {
   "cell_type": "code",
   "execution_count": 58,
   "metadata": {},
   "outputs": [
    {
     "data": {
      "text/plain": [
       "(0.0013246595343973126, 4.0000439557599098e-06)"
      ]
     },
     "execution_count": 58,
     "metadata": {},
     "output_type": "execute_result"
    }
   ],
   "source": [
    "#theorie Stange\n",
    "m1=0.21773\n",
    "l1=0.27\n",
    "ul1=0.001/np.sqrt(6)\n",
    "r1=0.01197/2\n",
    "ur1=0.0001/np.sqrt(6)\n",
    "J1t=m1*(l1**2/12+r1**2/4)\n",
    "uJ1t=np.sqrt((m1*l1*2*ul1/12)**2+(m1*2*ur1*r1/4)**2)\n",
    "J1t,uJ1t"
   ]
  },
  {
   "cell_type": "code",
   "execution_count": 59,
   "metadata": {},
   "outputs": [
    {
     "data": {
      "text/plain": [
       "(0.00019351381724437612,\n",
       " 9.212036493896168e-07,\n",
       " 0.0014398243534413126,\n",
       " 4.2114890798938249e-06)"
      ]
     },
     "execution_count": 59,
     "metadata": {},
     "output_type": "execute_result"
    }
   ],
   "source": [
    "c*D/(8*np.pi**2),np.sqrt((c*D/(8*np.pi**2))**2*((uc/c)**2+(uD/D)**2)), J1t+2*J2t,np.sqrt(uJ1t**2+4*uJ2t**2)"
   ]
  },
  {
   "cell_type": "code",
   "execution_count": null,
   "metadata": {
    "collapsed": true
   },
   "outputs": [],
   "source": []
  },
  {
   "cell_type": "code",
   "execution_count": null,
   "metadata": {
    "collapsed": true
   },
   "outputs": [],
   "source": []
  },
  {
   "cell_type": "code",
   "execution_count": null,
   "metadata": {
    "collapsed": true
   },
   "outputs": [],
   "source": []
  }
 ],
 "metadata": {
  "kernelspec": {
   "display_name": "Python 3",
   "language": "python",
   "name": "python3"
  },
  "language_info": {
   "codemirror_mode": {
    "name": "ipython",
    "version": 3
   },
   "file_extension": ".py",
   "mimetype": "text/x-python",
   "name": "python",
   "nbconvert_exporter": "python",
   "pygments_lexer": "ipython3",
   "version": "3.6.3"
  }
 },
 "nbformat": 4,
 "nbformat_minor": 2
}
