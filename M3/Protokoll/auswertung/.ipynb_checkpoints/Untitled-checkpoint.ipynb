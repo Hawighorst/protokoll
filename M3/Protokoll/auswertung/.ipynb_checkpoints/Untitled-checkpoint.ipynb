{
 "cells": [
  {
   "cell_type": "code",
   "execution_count": null,
   "metadata": {
    "collapsed": true
   },
   "outputs": [],
   "source": [
    "import numpy as np\n",
    "import scipy as sp\n",
    "import matplotlib.pyplot as plt\n",
    "import matplotlib\n",
    "import matplotlib.axes as axes\n",
    "import math\n",
    "from scipy import optimize"
   ]
  },
  {
   "cell_type": "code",
   "execution_count": null,
   "metadata": {
    "collapsed": true
   },
   "outputs": [],
   "source": [
    "%matplotlib inline"
   ]
  },
  {
   "cell_type": "code",
   "execution_count": null,
   "metadata": {
    "collapsed": true
   },
   "outputs": [],
   "source": [
    "data=np.loadtxt(\".txt\",comments=\"#\", delimiter=\"\\t\",unpack=False)\n",
    "\n",
    "fig=plt.figure(figsize=(10,6))\n",
    "\n",
    "#EInzelne Punkte:\n",
    "plt.plot(data[:,0],data[:,1],'kx',label='Messwerte')\n",
    "p0=[4, 10, 0.05, 4.5, 0, 0.53]\n",
    "popt, pcov, infodict, errmsg, ier = optimize.curve_fit(schweb,data[:,0],data[:,1],p0=p0, full_output= True)\n",
    "plt.legend(prop={'size':14})\n",
    "plt.grid()\n",
    "plt.tick_params(labelsize=22)\n",
    "plt.ylabel(\"Durchbiegung in cm\", {'fontsize':22})\n",
    "plt.xlabel(\"Gewicht in g\", {'fontsize': 22})\n",
    "plt.savefig(\"Durchbiegung.pdf\")\n",
    "plt.show()"
   ]
  }
 ],
 "metadata": {
  "celltoolbar": "Raw Cell Format",
  "kernelspec": {
   "display_name": "Python 3",
   "language": "python",
   "name": "python3"
  },
  "language_info": {
   "codemirror_mode": {
    "name": "ipython",
    "version": 3
   },
   "file_extension": ".py",
   "mimetype": "text/x-python",
   "name": "python",
   "nbconvert_exporter": "python",
   "pygments_lexer": "ipython3",
   "version": "3.5.1"
  }
 },
 "nbformat": 4,
 "nbformat_minor": 0
}
