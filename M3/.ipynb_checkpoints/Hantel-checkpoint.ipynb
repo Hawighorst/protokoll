{
 "cells": [
  {
   "cell_type": "code",
   "execution_count": 1,
   "metadata": {
    "collapsed": true
   },
   "outputs": [],
   "source": [
    "import numpy as np"
   ]
  },
  {
   "cell_type": "code",
   "execution_count": 2,
   "metadata": {
    "collapsed": true
   },
   "outputs": [],
   "source": [
    "b=1.38112e6\n",
    "c=1679.31\n",
    "ub=2609\n",
    "uc=7.345"
   ]
  },
  {
   "cell_type": "code",
   "execution_count": 11,
   "metadata": {
    "scrolled": true
   },
   "outputs": [
    {
     "data": {
      "text/plain": [
       "(9.098681225642357e-06, 1.7187832569002625e-08)"
      ]
     },
     "execution_count": 11,
     "metadata": {},
     "output_type": "execute_result"
    }
   ],
   "source": [
    "#Direktionsmoment\n",
    "D=4*np.pi/b\n",
    "uD=D*ub/b\n",
    "D,uD"
   ]
  },
  {
   "cell_type": "code",
   "execution_count": 15,
   "metadata": {},
   "outputs": [
    {
     "data": {
      "text/plain": [
       "(0.0003510878623856821, 1.584712184692532e-06)"
      ]
     },
     "execution_count": 15,
     "metadata": {},
     "output_type": "execute_result"
    }
   ],
   "source": [
    "#hantel ohne Scheiben\n",
    "T1=39.03\n",
    "uT1=0.08\n",
    "J1=T1**2*D/(4*np.pi**2)\n",
    "uJ1=J1*np.sqrt((2*uT1/T1)**2+(uD/D)**2)\n",
    "J1,uJ1"
   ]
  },
  {
   "cell_type": "code",
   "execution_count": 18,
   "metadata": {},
   "outputs": [
    {
     "data": {
      "text/plain": [
       "(1.797327765479763e-05, 1.2156782063660216e-06)"
      ]
     },
     "execution_count": 18,
     "metadata": {},
     "output_type": "execute_result"
    }
   ],
   "source": [
    "J2=c*D/(8*np.pi**2)-J1/2\n",
    "uJ2=np.sqrt((c*D/(8*np.pi**2))**2*((uc/c)**2+(uD/D)**2)+(uJ1/2)**2)\n",
    "J2,uJ2"
   ]
  },
  {
   "cell_type": "code",
   "execution_count": null,
   "metadata": {
    "collapsed": true
   },
   "outputs": [],
   "source": [
    "#Trägheitsmomente  Theorie"
   ]
  }
 ],
 "metadata": {
  "kernelspec": {
   "display_name": "Python 3",
   "language": "python",
   "name": "python3"
  },
  "language_info": {
   "codemirror_mode": {
    "name": "ipython",
    "version": 3
   },
   "file_extension": ".py",
   "mimetype": "text/x-python",
   "name": "python",
   "nbconvert_exporter": "python",
   "pygments_lexer": "ipython3",
   "version": "3.6.3"
  }
 },
 "nbformat": 4,
 "nbformat_minor": 2
}
